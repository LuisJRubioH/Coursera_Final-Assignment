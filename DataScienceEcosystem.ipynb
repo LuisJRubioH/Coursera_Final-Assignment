{
  "metadata": {
    "kernelspec": {
      "name": "xpython",
      "display_name": "Python 3.13 (XPython)",
      "language": "python"
    },
    "language_info": {
      "file_extension": ".py",
      "mimetype": "text/x-python",
      "name": "python",
      "version": "3.13.1"
    }
  },
  "nbformat_minor": 5,
  "nbformat": 4,
  "cells": [
    {
      "id": "59b3fd83-3053-4eee-b3ed-b2cce1391484",
      "cell_type": "markdown",
      "source": "# Data Science Tools and Ecosystem",
      "metadata": {}
    },
    {
      "id": "bdc922da-1839-4238-b8ca-210bc9cdb850",
      "cell_type": "markdown",
      "source": "In this notebook, Data Science Tools and Ecosystem are summarized.",
      "metadata": {}
    },
    {
      "id": "6a96a049-aa17-472c-bf4c-e7511990e084",
      "cell_type": "markdown",
      "source": "Objectives:\n\n* Add comments to code cell\n* Create markdown cells\n* Add ordered and unordered list to markdown cells\n* Format content of markdown cells with heading styles ",
      "metadata": {}
    },
    {
      "id": "e9e7e53b-d4d9-4c6c-8ab6-28aec3788635",
      "cell_type": "markdown",
      "source": "Some of the popular languages that Data Scientists use are:\n1. python\n2. R\n3. SQL\n4. Scale\n5. Jave\n6. C++\n7. julia\n8. JavaScript\n9. PHP\n10. Go\n11. Ruby\n12. Visual Basic ",
      "metadata": {}
    },
    {
      "id": "3deeef6c-6a52-4f0c-9742-aea1cd284533",
      "cell_type": "markdown",
      "source": "Some of the commonly used libraries used by Data Scientists include:\n* Pandas\n\n* Numpy\n\n* Matplotlib\n\n* Seaborn\n\n* Scikit-learn\n\n* Keras\n\n* TensorFlow\n\n* PyTorch\n\n* Apache Spark\n\n* Vegas\n\n* Big DL\n\n* Ggplot2",
      "metadata": {}
    },
    {
      "id": "8c67052f-321f-41ec-90d2-f1bae2eb016d",
      "cell_type": "markdown",
      "source": "\n| Data Science Tools  \n|---------------------|\n| **Anaconda**        |\n|**Jupyter Notebook**  |\n| **R studio**        |\n| **Spider**          | \n| **Zepplin**         |                 \n",
      "metadata": {}
    },
    {
      "id": "27ffbd97-d2c9-45f7-9d0f-53d0c14f5000",
      "cell_type": "markdown",
      "source": "### Arithmetic Expressions\n\nArithmetic expressions are mathematical phrases involving numbers and operators. They are used to perform calculations such as addition, subtraction, multiplication, and division.\n\n#### Examples:\n\n- `3 + 5` → Addition  \n- `10 - 4` → Subtraction  \n- `6 * 7` → Multiplication  \n- `20 / 5` → Division  \n- `(8 + 2) * 3` → Combination of operations with parentheses  \n- `2 ** 4` → Exponentiation (2 raised to the power of 4)  \n- `10 % 3` → Modulus (remainder of the division 10 ÷ 3)\n",
      "metadata": {}
    },
    {
      "id": "1bfe6c72-615d-4823-9214-11a060a3c08e",
      "cell_type": "code",
      "source": "# Multiply and add numbers\n\n# Define the numbers\na = 5\nb = 3\nc = 2\n\n# Perform multiplication\nproduct = a * b\n\n# Perform addition\nsum_result = product + c\n\n# Display the results\nprint(\"Product of a and b:\", product)\nprint(\"Sum of product and c:\", sum_result)\n",
      "metadata": {
        "trusted": true
      },
      "outputs": [
        {
          "name": "stdout",
          "output_type": "stream",
          "text": "Product of a and b: 15\nSum of product and c: 17\n"
        }
      ],
      "execution_count": 3
    },
    {
      "id": "6c630c3e-9a59-47b6-91ce-dac69381bccb",
      "cell_type": "code",
      "source": "# Convert minutes to hours\n\n# Define the number of minutes\nminutes = 150\n\n# Convert to hours\nhours = minutes / 60\n\n# Display the result\nprint(\"Minutes:\", minutes)\nprint(\"Equivalent in hours:\", hours)\n",
      "metadata": {
        "trusted": true
      },
      "outputs": [
        {
          "name": "stdout",
          "output_type": "stream",
          "text": "Minutes: 150\nEquivalent in hours: 2.5\n"
        }
      ],
      "execution_count": 4
    },
    {
      "id": "084a404b-6256-42da-bf55-0b9bad937579",
      "cell_type": "markdown",
      "source": "## Author  \nLuis Javier \n\nRubio Hernández\n",
      "metadata": {}
    },
    {
      "id": "dd84c4e8-a504-453f-9cdb-14a66e0e8f3b",
      "cell_type": "code",
      "source": "",
      "metadata": {
        "trusted": true
      },
      "outputs": [],
      "execution_count": null
    }
  ]
}